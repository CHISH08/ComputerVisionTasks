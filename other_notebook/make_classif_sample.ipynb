{
 "cells": [
  {
   "cell_type": "code",
   "execution_count": 1,
   "metadata": {},
   "outputs": [
    {
     "name": "stdout",
     "output_type": "stream",
     "text": [
      "/home/denis/code/study/ComputerVisionTasks\n"
     ]
    }
   ],
   "source": [
    "%cd .."
   ]
  },
  {
   "cell_type": "code",
   "execution_count": 2,
   "metadata": {},
   "outputs": [],
   "source": [
    "import os\n",
    "import shutil\n",
    "from sklearn.model_selection import train_test_split\n",
    "from torchvision.datasets import ImageFolder\n",
    "\n",
    "# Загружаем датасет\n",
    "dataset = ImageFolder(root='./data/PatternNet')\n",
    "\n",
    "# Получаем список файлов и соответствующих меток\n",
    "file_paths = [sample[0] for sample in dataset.samples]\n",
    "labels = [sample[1] for sample in dataset.samples]\n",
    "\n",
    "# Имена классов (на основе папок)\n",
    "class_names = dataset.classes\n",
    "\n",
    "# Сначала разбиваем на train+validation и test (например, 80% train+val, 20% test)\n",
    "train_val_paths, test_paths, train_val_labels, test_labels = train_test_split(\n",
    "    file_paths, labels, test_size=0.2, stratify=labels, random_state=42)\n",
    "\n",
    "# Затем делим train+val на train и validation (например, 75% train и 25% val, что в итоге даст 60/20/20)\n",
    "train_paths, val_paths, train_labels, val_labels = train_test_split(\n",
    "    train_val_paths, train_val_labels, test_size=0.25, stratify=train_val_labels, random_state=42)\n",
    "\n",
    "# Определяем корневую папку для разбитого датасета\n",
    "output_root = './data/PatternNet_split'\n",
    "for subset in ['train', 'validation', 'test']:\n",
    "    for cls in class_names:\n",
    "        os.makedirs(os.path.join(output_root, subset, cls), exist_ok=True)\n",
    "\n",
    "# Функция для копирования файлов в соответствующую папку\n",
    "def copy_files(paths, labels, subset):\n",
    "    for path, label in zip(paths, labels):\n",
    "        cls_name = class_names[label]\n",
    "        dst = os.path.join(output_root, subset, cls_name, os.path.basename(path))\n",
    "        shutil.copy2(path, dst)\n",
    "\n",
    "# Копируем файлы в подпапки\n",
    "copy_files(train_paths, train_labels, 'train')\n",
    "copy_files(val_paths, val_labels, 'validation')\n",
    "copy_files(test_paths, test_labels, 'test')\n"
   ]
  }
 ],
 "metadata": {
  "language_info": {
   "name": "python"
  }
 },
 "nbformat": 4,
 "nbformat_minor": 2
}
