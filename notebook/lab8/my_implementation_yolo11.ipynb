{
 "cells": [
  {
   "cell_type": "code",
   "execution_count": 1,
   "metadata": {
    "execution": {
     "iopub.execute_input": "2025-04-19T21:39:14.589664Z",
     "iopub.status.busy": "2025-04-19T21:39:14.589493Z",
     "iopub.status.idle": "2025-04-19T21:39:18.208521Z",
     "shell.execute_reply": "2025-04-19T21:39:18.207436Z",
     "shell.execute_reply.started": "2025-04-19T21:39:14.589647Z"
    },
    "trusted": true
   },
   "outputs": [
    {
     "name": "stdout",
     "output_type": "stream",
     "text": [
      "Requirement already satisfied: ultralytics in /usr/local/lib/python3.11/dist-packages (8.3.111)\n",
      "Requirement already satisfied: numpy<=2.1.1,>=1.23.0 in /usr/local/lib/python3.11/dist-packages (from ultralytics) (1.26.4)\n",
      "Requirement already satisfied: matplotlib>=3.3.0 in /usr/local/lib/python3.11/dist-packages (from ultralytics) (3.7.5)\n",
      "Requirement already satisfied: opencv-python>=4.6.0 in /usr/local/lib/python3.11/dist-packages (from ultralytics) (4.11.0.86)\n",
      "Requirement already satisfied: pillow>=7.1.2 in /usr/local/lib/python3.11/dist-packages (from ultralytics) (11.1.0)\n",
      "Requirement already satisfied: pyyaml>=5.3.1 in /usr/local/lib/python3.11/dist-packages (from ultralytics) (6.0.2)\n",
      "Requirement already satisfied: requests>=2.23.0 in /usr/local/lib/python3.11/dist-packages (from ultralytics) (2.32.3)\n",
      "Requirement already satisfied: scipy>=1.4.1 in /usr/local/lib/python3.11/dist-packages (from ultralytics) (1.15.2)\n",
      "Requirement already satisfied: torch>=1.8.0 in /usr/local/lib/python3.11/dist-packages (from ultralytics) (2.5.1+cu124)\n",
      "Requirement already satisfied: torchvision>=0.9.0 in /usr/local/lib/python3.11/dist-packages (from ultralytics) (0.20.1+cu124)\n",
      "Requirement already satisfied: tqdm>=4.64.0 in /usr/local/lib/python3.11/dist-packages (from ultralytics) (4.67.1)\n",
      "Requirement already satisfied: psutil in /usr/local/lib/python3.11/dist-packages (from ultralytics) (7.0.0)\n",
      "Requirement already satisfied: py-cpuinfo in /usr/local/lib/python3.11/dist-packages (from ultralytics) (9.0.0)\n",
      "Requirement already satisfied: pandas>=1.1.4 in /usr/local/lib/python3.11/dist-packages (from ultralytics) (2.2.3)\n",
      "Requirement already satisfied: seaborn>=0.11.0 in /usr/local/lib/python3.11/dist-packages (from ultralytics) (0.12.2)\n",
      "Requirement already satisfied: ultralytics-thop>=2.0.0 in /usr/local/lib/python3.11/dist-packages (from ultralytics) (2.0.14)\n",
      "Requirement already satisfied: contourpy>=1.0.1 in /usr/local/lib/python3.11/dist-packages (from matplotlib>=3.3.0->ultralytics) (1.3.1)\n",
      "Requirement already satisfied: cycler>=0.10 in /usr/local/lib/python3.11/dist-packages (from matplotlib>=3.3.0->ultralytics) (0.12.1)\n",
      "Requirement already satisfied: fonttools>=4.22.0 in /usr/local/lib/python3.11/dist-packages (from matplotlib>=3.3.0->ultralytics) (4.56.0)\n",
      "Requirement already satisfied: kiwisolver>=1.0.1 in /usr/local/lib/python3.11/dist-packages (from matplotlib>=3.3.0->ultralytics) (1.4.8)\n",
      "Requirement already satisfied: packaging>=20.0 in /usr/local/lib/python3.11/dist-packages (from matplotlib>=3.3.0->ultralytics) (24.2)\n",
      "Requirement already satisfied: pyparsing>=2.3.1 in /usr/local/lib/python3.11/dist-packages (from matplotlib>=3.3.0->ultralytics) (3.2.1)\n",
      "Requirement already satisfied: python-dateutil>=2.7 in /usr/local/lib/python3.11/dist-packages (from matplotlib>=3.3.0->ultralytics) (2.9.0.post0)\n",
      "Requirement already satisfied: mkl_fft in /usr/local/lib/python3.11/dist-packages (from numpy<=2.1.1,>=1.23.0->ultralytics) (1.3.8)\n",
      "Requirement already satisfied: mkl_random in /usr/local/lib/python3.11/dist-packages (from numpy<=2.1.1,>=1.23.0->ultralytics) (1.2.4)\n",
      "Requirement already satisfied: mkl_umath in /usr/local/lib/python3.11/dist-packages (from numpy<=2.1.1,>=1.23.0->ultralytics) (0.1.1)\n",
      "Requirement already satisfied: mkl in /usr/local/lib/python3.11/dist-packages (from numpy<=2.1.1,>=1.23.0->ultralytics) (2025.1.0)\n",
      "Requirement already satisfied: tbb4py in /usr/local/lib/python3.11/dist-packages (from numpy<=2.1.1,>=1.23.0->ultralytics) (2022.1.0)\n",
      "Requirement already satisfied: mkl-service in /usr/local/lib/python3.11/dist-packages (from numpy<=2.1.1,>=1.23.0->ultralytics) (2.4.1)\n",
      "Requirement already satisfied: pytz>=2020.1 in /usr/local/lib/python3.11/dist-packages (from pandas>=1.1.4->ultralytics) (2025.2)\n",
      "Requirement already satisfied: tzdata>=2022.7 in /usr/local/lib/python3.11/dist-packages (from pandas>=1.1.4->ultralytics) (2025.2)\n",
      "Requirement already satisfied: charset-normalizer<4,>=2 in /usr/local/lib/python3.11/dist-packages (from requests>=2.23.0->ultralytics) (3.4.1)\n",
      "Requirement already satisfied: idna<4,>=2.5 in /usr/local/lib/python3.11/dist-packages (from requests>=2.23.0->ultralytics) (3.10)\n",
      "Requirement already satisfied: urllib3<3,>=1.21.1 in /usr/local/lib/python3.11/dist-packages (from requests>=2.23.0->ultralytics) (2.3.0)\n",
      "Requirement already satisfied: certifi>=2017.4.17 in /usr/local/lib/python3.11/dist-packages (from requests>=2.23.0->ultralytics) (2025.1.31)\n",
      "Requirement already satisfied: filelock in /usr/local/lib/python3.11/dist-packages (from torch>=1.8.0->ultralytics) (3.18.0)\n",
      "Requirement already satisfied: typing-extensions>=4.8.0 in /usr/local/lib/python3.11/dist-packages (from torch>=1.8.0->ultralytics) (4.13.1)\n",
      "Requirement already satisfied: networkx in /usr/local/lib/python3.11/dist-packages (from torch>=1.8.0->ultralytics) (3.4.2)\n",
      "Requirement already satisfied: jinja2 in /usr/local/lib/python3.11/dist-packages (from torch>=1.8.0->ultralytics) (3.1.6)\n",
      "Requirement already satisfied: fsspec in /usr/local/lib/python3.11/dist-packages (from torch>=1.8.0->ultralytics) (2025.3.2)\n",
      "Requirement already satisfied: nvidia-cuda-nvrtc-cu12==12.4.127 in /usr/local/lib/python3.11/dist-packages (from torch>=1.8.0->ultralytics) (12.4.127)\n",
      "Requirement already satisfied: nvidia-cuda-runtime-cu12==12.4.127 in /usr/local/lib/python3.11/dist-packages (from torch>=1.8.0->ultralytics) (12.4.127)\n",
      "Requirement already satisfied: nvidia-cuda-cupti-cu12==12.4.127 in /usr/local/lib/python3.11/dist-packages (from torch>=1.8.0->ultralytics) (12.4.127)\n",
      "Requirement already satisfied: nvidia-cudnn-cu12==9.1.0.70 in /usr/local/lib/python3.11/dist-packages (from torch>=1.8.0->ultralytics) (9.1.0.70)\n",
      "Requirement already satisfied: nvidia-cublas-cu12==12.4.5.8 in /usr/local/lib/python3.11/dist-packages (from torch>=1.8.0->ultralytics) (12.4.5.8)\n",
      "Requirement already satisfied: nvidia-cufft-cu12==11.2.1.3 in /usr/local/lib/python3.11/dist-packages (from torch>=1.8.0->ultralytics) (11.2.1.3)\n",
      "Requirement already satisfied: nvidia-curand-cu12==10.3.5.147 in /usr/local/lib/python3.11/dist-packages (from torch>=1.8.0->ultralytics) (10.3.5.147)\n",
      "Requirement already satisfied: nvidia-cusolver-cu12==11.6.1.9 in /usr/local/lib/python3.11/dist-packages (from torch>=1.8.0->ultralytics) (11.6.1.9)\n",
      "Requirement already satisfied: nvidia-cusparse-cu12==12.3.1.170 in /usr/local/lib/python3.11/dist-packages (from torch>=1.8.0->ultralytics) (12.3.1.170)\n",
      "Requirement already satisfied: nvidia-nccl-cu12==2.21.5 in /usr/local/lib/python3.11/dist-packages (from torch>=1.8.0->ultralytics) (2.21.5)\n",
      "Requirement already satisfied: nvidia-nvtx-cu12==12.4.127 in /usr/local/lib/python3.11/dist-packages (from torch>=1.8.0->ultralytics) (12.4.127)\n",
      "Requirement already satisfied: nvidia-nvjitlink-cu12==12.4.127 in /usr/local/lib/python3.11/dist-packages (from torch>=1.8.0->ultralytics) (12.4.127)\n",
      "Requirement already satisfied: triton==3.1.0 in /usr/local/lib/python3.11/dist-packages (from torch>=1.8.0->ultralytics) (3.1.0)\n",
      "Requirement already satisfied: sympy==1.13.1 in /usr/local/lib/python3.11/dist-packages (from torch>=1.8.0->ultralytics) (1.13.1)\n",
      "Requirement already satisfied: mpmath<1.4,>=1.1.0 in /usr/local/lib/python3.11/dist-packages (from sympy==1.13.1->torch>=1.8.0->ultralytics) (1.3.0)\n",
      "Requirement already satisfied: six>=1.5 in /usr/local/lib/python3.11/dist-packages (from python-dateutil>=2.7->matplotlib>=3.3.0->ultralytics) (1.17.0)\n",
      "Requirement already satisfied: MarkupSafe>=2.0 in /usr/local/lib/python3.11/dist-packages (from jinja2->torch>=1.8.0->ultralytics) (3.0.2)\n",
      "Requirement already satisfied: intel-openmp<2026,>=2024 in /usr/local/lib/python3.11/dist-packages (from mkl->numpy<=2.1.1,>=1.23.0->ultralytics) (2024.2.0)\n",
      "Requirement already satisfied: tbb==2022.* in /usr/local/lib/python3.11/dist-packages (from mkl->numpy<=2.1.1,>=1.23.0->ultralytics) (2022.1.0)\n",
      "Requirement already satisfied: tcmlib==1.* in /usr/local/lib/python3.11/dist-packages (from tbb==2022.*->mkl->numpy<=2.1.1,>=1.23.0->ultralytics) (1.2.0)\n",
      "Requirement already satisfied: intel-cmplr-lib-rt in /usr/local/lib/python3.11/dist-packages (from mkl_umath->numpy<=2.1.1,>=1.23.0->ultralytics) (2024.2.0)\n",
      "Requirement already satisfied: intel-cmplr-lib-ur==2024.2.0 in /usr/local/lib/python3.11/dist-packages (from intel-openmp<2026,>=2024->mkl->numpy<=2.1.1,>=1.23.0->ultralytics) (2024.2.0)\n"
     ]
    }
   ],
   "source": [
    "!pip install ultralytics"
   ]
  },
  {
   "cell_type": "markdown",
   "metadata": {},
   "source": [
    "## Создаем yaml файл с характеристиками моделями yolov11n"
   ]
  },
  {
   "cell_type": "code",
   "execution_count": 2,
   "metadata": {
    "execution": {
     "iopub.execute_input": "2025-04-19T21:39:18.211052Z",
     "iopub.status.busy": "2025-04-19T21:39:18.210744Z",
     "iopub.status.idle": "2025-04-19T21:39:18.216493Z",
     "shell.execute_reply": "2025-04-19T21:39:18.215956Z",
     "shell.execute_reply.started": "2025-04-19T21:39:18.211025Z"
    },
    "trusted": true
   },
   "outputs": [],
   "source": [
    "text = \"\"\"\n",
    "nc: 20  # number of classes\n",
    "scales:\n",
    "  n: [0.50, 0.25, 1024]  # [depth, width, max_channels]\n",
    "\n",
    "backbone:\n",
    "  - [-1, 1, Conv,   [64, 3, 2]]\n",
    "  - [-1, 1, Conv,   [128, 3, 2]]\n",
    "  - [-1, 2, C3k2,   [256, False, 0.25]]\n",
    "  - [-1, 1, Conv,   [256, 3, 2]]\n",
    "  - [-1, 2, C3k2,   [512, False, 0.25]]\n",
    "  - [-1, 1, Conv,   [512, 3, 2]]\n",
    "  - [-1, 2, C3k2,   [512, True]]\n",
    "  - [-1, 1, Conv,   [1024, 3, 2]]\n",
    "  - [-1, 2, C3k2,   [1024, True]]\n",
    "  - [-1, 1, SPPF,   [1024, 5]]\n",
    "  - [-1, 2, C2PSA,  [1024]]\n",
    "\n",
    "head:\n",
    "  - [-1, 1, nn.Upsample, [None, 2, \"nearest\"]]\n",
    "  - [[-1, 6], 1, Concat,      [1]]\n",
    "  - [-1, 2, C3k2,            [512, False]]\n",
    "  - [-1, 1, nn.Upsample,     [None, 2, \"nearest\"]]\n",
    "  - [[-1, 4], 1, Concat,      [1]]\n",
    "  - [-1, 2, C3k2,            [256, False]]\n",
    "  - [-1, 1, Conv,            [256, 3, 2]]\n",
    "  - [[-1, 13], 1, Concat,     [1]]\n",
    "  - [-1, 2, C3k2,            [512, False]]\n",
    "  - [-1, 1, Conv,            [512, 3, 2]]\n",
    "  - [[-1, 10], 1, Concat,     [1]]\n",
    "  - [-1, 2, C3k2,            [1024, False]]\n",
    "  - [[16, 19, 22], 1, Detect, [nc]]\n",
    "\"\"\"\n",
    "with open('yolo.yaml', 'w') as file:\n",
    "    file.write(text)"
   ]
  },
  {
   "cell_type": "code",
   "execution_count": 3,
   "metadata": {
    "execution": {
     "iopub.execute_input": "2025-04-19T21:39:18.217940Z",
     "iopub.status.busy": "2025-04-19T21:39:18.217334Z",
     "iopub.status.idle": "2025-04-19T21:39:20.877965Z",
     "shell.execute_reply": "2025-04-19T21:39:20.877304Z",
     "shell.execute_reply.started": "2025-04-19T21:39:18.217909Z"
    },
    "trusted": true
   },
   "outputs": [],
   "source": [
    "from ultralytics import YOLO"
   ]
  },
  {
   "cell_type": "markdown",
   "metadata": {},
   "source": [
    "## Импортируем модель из файла"
   ]
  },
  {
   "cell_type": "code",
   "execution_count": 4,
   "metadata": {
    "execution": {
     "iopub.execute_input": "2025-04-19T21:39:20.879035Z",
     "iopub.status.busy": "2025-04-19T21:39:20.878675Z",
     "iopub.status.idle": "2025-04-19T21:39:21.032237Z",
     "shell.execute_reply": "2025-04-19T21:39:21.031412Z",
     "shell.execute_reply.started": "2025-04-19T21:39:20.879012Z"
    },
    "trusted": true
   },
   "outputs": [
    {
     "name": "stdout",
     "output_type": "stream",
     "text": [
      "WARNING ⚠️ no model scale passed. Assuming scale='n'.\n"
     ]
    }
   ],
   "source": [
    "model = YOLO(\"yolo.yaml\")"
   ]
  },
  {
   "cell_type": "code",
   "execution_count": 5,
   "metadata": {
    "execution": {
     "iopub.execute_input": "2025-04-19T21:39:21.033322Z",
     "iopub.status.busy": "2025-04-19T21:39:21.033047Z",
     "iopub.status.idle": "2025-04-19T23:07:45.776654Z",
     "shell.execute_reply": "2025-04-19T23:07:45.775658Z",
     "shell.execute_reply.started": "2025-04-19T21:39:21.033292Z"
    },
    "trusted": true
   },
   "outputs": [
    {
     "name": "stdout",
     "output_type": "stream",
     "text": [
      "Ultralytics 8.3.111 🚀 Python-3.11.11 torch-2.5.1+cu124 CUDA:0 (Tesla P100-PCIE-16GB, 16269MiB)\n",
      "\u001b[34m\u001b[1mengine/trainer: \u001b[0mtask=detect, mode=train, model=yolo.yaml, data=/kaggle/input/diordataset/Diorkaggle.yaml, epochs=20, time=None, patience=100, batch=32, imgsz=640, save=True, save_period=4, cache=False, device=None, workers=8, project=None, name=yolov11_dior2, exist_ok=False, pretrained=True, optimizer=auto, verbose=True, seed=0, deterministic=True, single_cls=False, rect=False, cos_lr=False, close_mosaic=10, resume=False, amp=True, fraction=1.0, profile=False, freeze=0, multi_scale=False, overlap_mask=True, mask_ratio=4, dropout=0.0, val=True, split=val, save_json=False, conf=None, iou=0.7, max_det=300, half=False, dnn=False, plots=True, source=None, vid_stride=1, stream_buffer=False, visualize=False, augment=False, agnostic_nms=False, classes=None, retina_masks=False, embed=None, show=False, save_frames=False, save_txt=False, save_conf=False, save_crop=False, show_labels=True, show_conf=True, show_boxes=True, line_width=None, format=torchscript, keras=False, optimize=False, int8=False, dynamic=False, simplify=True, opset=None, workspace=None, nms=False, lr0=0.0003, lrf=0.01, momentum=0.937, weight_decay=0.0005, warmup_epochs=3.0, warmup_momentum=0.8, warmup_bias_lr=0.1, box=7.5, cls=0.5, dfl=1.5, pose=12.0, kobj=1.0, nbs=64, hsv_h=0.015, hsv_s=0.7, hsv_v=0.4, degrees=0.0, translate=0.1, scale=0.5, shear=0.0, perspective=0.0, flipud=0.0, fliplr=0.5, bgr=0.0, mosaic=1.0, mixup=0.0, copy_paste=0.0, copy_paste_mode=flip, auto_augment=randaugment, erasing=0.4, cfg=None, tracker=botsort.yaml, save_dir=runs/detect/yolov11_dior2\n"
     ]
    },
    {
     "name": "stderr",
     "output_type": "stream",
     "text": [
      "WARNING: All log messages before absl::InitializeLog() is called are written to STDERR\n",
      "E0000 00:00:1745098763.020740     162 cuda_dnn.cc:8310] Unable to register cuDNN factory: Attempting to register factory for plugin cuDNN when one has already been registered\n",
      "E0000 00:00:1745098763.027696     162 cuda_blas.cc:1418] Unable to register cuBLAS factory: Attempting to register factory for plugin cuBLAS when one has already been registered\n"
     ]
    },
    {
     "name": "stdout",
     "output_type": "stream",
     "text": [
      "WARNING ⚠️ no model scale passed. Assuming scale='n'.\n",
      "\n",
      "                   from  n    params  module                                       arguments                     \n",
      "  0                  -1  1       464  ultralytics.nn.modules.conv.Conv             [3, 16, 3, 2]                 \n",
      "  1                  -1  1      4672  ultralytics.nn.modules.conv.Conv             [16, 32, 3, 2]                \n",
      "  2                  -1  1      6640  ultralytics.nn.modules.block.C3k2            [32, 64, 1, False, 0.25]      \n",
      "  3                  -1  1     36992  ultralytics.nn.modules.conv.Conv             [64, 64, 3, 2]                \n",
      "  4                  -1  1     26080  ultralytics.nn.modules.block.C3k2            [64, 128, 1, False, 0.25]     \n",
      "  5                  -1  1    147712  ultralytics.nn.modules.conv.Conv             [128, 128, 3, 2]              \n",
      "  6                  -1  1     87040  ultralytics.nn.modules.block.C3k2            [128, 128, 1, True]           \n",
      "  7                  -1  1    295424  ultralytics.nn.modules.conv.Conv             [128, 256, 3, 2]              \n",
      "  8                  -1  1    346112  ultralytics.nn.modules.block.C3k2            [256, 256, 1, True]           \n",
      "  9                  -1  1    164608  ultralytics.nn.modules.block.SPPF            [256, 256, 5]                 \n",
      " 10                  -1  1    249728  ultralytics.nn.modules.block.C2PSA           [256, 256, 1]                 \n",
      " 11                  -1  1         0  torch.nn.modules.upsampling.Upsample         [None, 2, 'nearest']          \n",
      " 12             [-1, 6]  1         0  ultralytics.nn.modules.conv.Concat           [1]                           \n",
      " 13                  -1  1    111296  ultralytics.nn.modules.block.C3k2            [384, 128, 1, False]          \n",
      " 14                  -1  1         0  torch.nn.modules.upsampling.Upsample         [None, 2, 'nearest']          \n",
      " 15             [-1, 4]  1         0  ultralytics.nn.modules.conv.Concat           [1]                           \n",
      " 16                  -1  1     32096  ultralytics.nn.modules.block.C3k2            [256, 64, 1, False]           \n",
      " 17                  -1  1     36992  ultralytics.nn.modules.conv.Conv             [64, 64, 3, 2]                \n",
      " 18            [-1, 13]  1         0  ultralytics.nn.modules.conv.Concat           [1]                           \n",
      " 19                  -1  1     86720  ultralytics.nn.modules.block.C3k2            [192, 128, 1, False]          \n",
      " 20                  -1  1    147712  ultralytics.nn.modules.conv.Conv             [128, 128, 3, 2]              \n",
      " 21            [-1, 10]  1         0  ultralytics.nn.modules.conv.Concat           [1]                           \n",
      " 22                  -1  1    345472  ultralytics.nn.modules.block.C3k2            [384, 256, 1, False]          \n",
      " 23        [16, 19, 22]  1    434572  ultralytics.nn.modules.head.Detect           [20, [64, 128, 256]]          \n",
      "YOLO summary: 171 layers, 2,560,332 parameters, 2,560,316 gradients, 6.4 GFLOPs\n",
      "\n",
      "Freezing layer 'model.23.dfl.conv.weight'\n",
      "\u001b[34m\u001b[1mAMP: \u001b[0mrunning Automatic Mixed Precision (AMP) checks...\n",
      "\u001b[34m\u001b[1mAMP: \u001b[0mchecks passed ✅\n",
      "\u001b[34m\u001b[1mtrain: \u001b[0mFast image access ✅ (ping: 0.0±0.0 ms, read: 403.1±296.9 MB/s, size: 349.0 KB)\n"
     ]
    },
    {
     "name": "stderr",
     "output_type": "stream",
     "text": [
      "\u001b[34m\u001b[1mtrain: \u001b[0mScanning /kaggle/input/diordataset/Dior/Dior/labels/train... 11725 images, 0 backgrounds, 0 corrupt: 100%|██████████| 11725/11725 [00:11<00:00, 989.83it/s] "
     ]
    },
    {
     "name": "stdout",
     "output_type": "stream",
     "text": [
      "\u001b[34m\u001b[1mtrain: \u001b[0mWARNING ⚠️ /kaggle/input/diordataset/Dior/Dior/images/train/00594.jpg: 1 duplicate labels removed\n"
     ]
    },
    {
     "name": "stderr",
     "output_type": "stream",
     "text": [
      "\n"
     ]
    },
    {
     "name": "stdout",
     "output_type": "stream",
     "text": [
      "\u001b[34m\u001b[1mtrain: \u001b[0mWARNING ⚠️ Cache directory /kaggle/input/diordataset/Dior/Dior/labels is not writeable, cache not saved.\n",
      "\u001b[34m\u001b[1malbumentations: \u001b[0mBlur(p=0.01, blur_limit=(3, 7)), MedianBlur(p=0.01, blur_limit=(3, 7)), ToGray(p=0.01, num_output_channels=3, method='weighted_average'), CLAHE(p=0.01, clip_limit=(1.0, 4.0), tile_grid_size=(8, 8))\n",
      "\u001b[34m\u001b[1mval: \u001b[0mFast image access ✅ (ping: 0.0±0.0 ms, read: 179.8±99.4 MB/s, size: 126.7 KB)\n"
     ]
    },
    {
     "name": "stderr",
     "output_type": "stream",
     "text": [
      "\u001b[34m\u001b[1mval: \u001b[0mScanning /kaggle/input/diordataset/Dior/Dior/labels/val... 11738 images, 0 backgrounds, 0 corrupt: 100%|██████████| 11738/11738 [00:11<00:00, 1003.25it/s]\n"
     ]
    },
    {
     "name": "stdout",
     "output_type": "stream",
     "text": [
      "\u001b[34m\u001b[1mval: \u001b[0mWARNING ⚠️ Cache directory /kaggle/input/diordataset/Dior/Dior/labels is not writeable, cache not saved.\n",
      "Plotting labels to runs/detect/yolov11_dior2/labels.jpg... \n",
      "\u001b[34m\u001b[1moptimizer:\u001b[0m 'optimizer=auto' found, ignoring 'lr0=0.0003' and 'momentum=0.937' and determining best 'optimizer', 'lr0' and 'momentum' automatically... \n",
      "\u001b[34m\u001b[1moptimizer:\u001b[0m AdamW(lr=0.000417, momentum=0.9) with parameter groups 76 weight(decay=0.0), 83 weight(decay=0.0005), 82 bias(decay=0.0)\n",
      "Image sizes 640 train, 640 val\n",
      "Using 4 dataloader workers\n",
      "Logging results to \u001b[1mruns/detect/yolov11_dior2\u001b[0m\n",
      "Starting training for 20 epochs...\n",
      "\n",
      "      Epoch    GPU_mem   box_loss   cls_loss   dfl_loss  Instances       Size\n"
     ]
    },
    {
     "name": "stderr",
     "output_type": "stream",
     "text": [
      "       1/20        11G      3.505      5.197      3.959         85        640: 100%|██████████| 367/367 [02:36<00:00,  2.35it/s]\n",
      "                 Class     Images  Instances      Box(P          R      mAP50  mAP50-95): 100%|██████████| 184/184 [01:41<00:00,  1.81it/s]\n"
     ]
    },
    {
     "name": "stdout",
     "output_type": "stream",
     "text": [
      "                   all      11738     124443      0.539     0.0161    0.00435    0.00126\n",
      "\n",
      "      Epoch    GPU_mem   box_loss   cls_loss   dfl_loss  Instances       Size\n"
     ]
    },
    {
     "name": "stderr",
     "output_type": "stream",
     "text": [
      "       2/20        14G      2.744      3.816      2.765         86        640: 100%|██████████| 367/367 [02:33<00:00,  2.39it/s]\n",
      "                 Class     Images  Instances      Box(P          R      mAP50  mAP50-95): 100%|██████████| 184/184 [01:41<00:00,  1.81it/s]\n"
     ]
    },
    {
     "name": "stdout",
     "output_type": "stream",
     "text": [
      "                   all      11738     124443      0.347     0.0976     0.0784     0.0361\n",
      "\n",
      "      Epoch    GPU_mem   box_loss   cls_loss   dfl_loss  Instances       Size\n"
     ]
    },
    {
     "name": "stderr",
     "output_type": "stream",
     "text": [
      "       3/20        10G      2.189      2.868      2.134        106        640: 100%|██████████| 367/367 [02:30<00:00,  2.43it/s]\n",
      "                 Class     Images  Instances      Box(P          R      mAP50  mAP50-95): 100%|██████████| 184/184 [01:40<00:00,  1.82it/s]\n"
     ]
    },
    {
     "name": "stdout",
     "output_type": "stream",
     "text": [
      "                   all      11738     124443      0.493      0.135      0.127      0.065\n",
      "\n",
      "      Epoch    GPU_mem   box_loss   cls_loss   dfl_loss  Instances       Size\n"
     ]
    },
    {
     "name": "stderr",
     "output_type": "stream",
     "text": [
      "       4/20      11.6G      1.954       2.36      1.862         98        640: 100%|██████████| 367/367 [02:30<00:00,  2.44it/s]\n",
      "                 Class     Images  Instances      Box(P          R      mAP50  mAP50-95): 100%|██████████| 184/184 [01:38<00:00,  1.87it/s]\n"
     ]
    },
    {
     "name": "stdout",
     "output_type": "stream",
     "text": [
      "                   all      11738     124443      0.486      0.194      0.173     0.0922\n",
      "\n",
      "      Epoch    GPU_mem   box_loss   cls_loss   dfl_loss  Instances       Size\n"
     ]
    },
    {
     "name": "stderr",
     "output_type": "stream",
     "text": [
      "       5/20      11.1G      1.821      2.062      1.694        217        640: 100%|██████████| 367/367 [02:30<00:00,  2.45it/s]\n",
      "                 Class     Images  Instances      Box(P          R      mAP50  mAP50-95): 100%|██████████| 184/184 [01:39<00:00,  1.84it/s]\n"
     ]
    },
    {
     "name": "stdout",
     "output_type": "stream",
     "text": [
      "                   all      11738     124443      0.346      0.246      0.215      0.121\n",
      "\n",
      "      Epoch    GPU_mem   box_loss   cls_loss   dfl_loss  Instances       Size\n"
     ]
    },
    {
     "name": "stderr",
     "output_type": "stream",
     "text": [
      "       6/20      13.8G      1.739      1.872      1.618         92        640: 100%|██████████| 367/367 [02:30<00:00,  2.44it/s]\n",
      "                 Class     Images  Instances      Box(P          R      mAP50  mAP50-95): 100%|██████████| 184/184 [01:38<00:00,  1.87it/s]\n"
     ]
    },
    {
     "name": "stdout",
     "output_type": "stream",
     "text": [
      "                   all      11738     124443      0.409      0.286      0.255      0.143\n",
      "\n",
      "      Epoch    GPU_mem   box_loss   cls_loss   dfl_loss  Instances       Size\n"
     ]
    },
    {
     "name": "stderr",
     "output_type": "stream",
     "text": [
      "       7/20      14.3G      1.665       1.72      1.548         80        640: 100%|██████████| 367/367 [02:30<00:00,  2.45it/s]\n",
      "                 Class     Images  Instances      Box(P          R      mAP50  mAP50-95): 100%|██████████| 184/184 [01:38<00:00,  1.87it/s]\n"
     ]
    },
    {
     "name": "stdout",
     "output_type": "stream",
     "text": [
      "                   all      11738     124443      0.466      0.302      0.293      0.167\n",
      "\n",
      "      Epoch    GPU_mem   box_loss   cls_loss   dfl_loss  Instances       Size\n"
     ]
    },
    {
     "name": "stderr",
     "output_type": "stream",
     "text": [
      "       8/20      12.4G      1.611      1.616      1.502        125        640: 100%|██████████| 367/367 [02:35<00:00,  2.36it/s]\n",
      "                 Class     Images  Instances      Box(P          R      mAP50  mAP50-95): 100%|██████████| 184/184 [01:43<00:00,  1.78it/s]\n"
     ]
    },
    {
     "name": "stdout",
     "output_type": "stream",
     "text": [
      "                   all      11738     124443      0.483      0.329      0.322      0.185\n",
      "\n",
      "      Epoch    GPU_mem   box_loss   cls_loss   dfl_loss  Instances       Size\n"
     ]
    },
    {
     "name": "stderr",
     "output_type": "stream",
     "text": [
      "       9/20      12.6G      1.564      1.539      1.467         81        640: 100%|██████████| 367/367 [02:33<00:00,  2.39it/s]\n",
      "                 Class     Images  Instances      Box(P          R      mAP50  mAP50-95): 100%|██████████| 184/184 [01:43<00:00,  1.78it/s]\n"
     ]
    },
    {
     "name": "stdout",
     "output_type": "stream",
     "text": [
      "                   all      11738     124443      0.526      0.348      0.357      0.205\n",
      "\n",
      "      Epoch    GPU_mem   box_loss   cls_loss   dfl_loss  Instances       Size\n"
     ]
    },
    {
     "name": "stderr",
     "output_type": "stream",
     "text": [
      "      10/20      14.4G      1.529      1.465      1.433         64        640: 100%|██████████| 367/367 [02:40<00:00,  2.28it/s]\n",
      "                 Class     Images  Instances      Box(P          R      mAP50  mAP50-95): 100%|██████████| 184/184 [01:43<00:00,  1.78it/s]\n"
     ]
    },
    {
     "name": "stdout",
     "output_type": "stream",
     "text": [
      "                   all      11738     124443      0.548      0.368      0.375      0.218\n",
      "Closing dataloader mosaic\n",
      "\u001b[34m\u001b[1malbumentations: \u001b[0mBlur(p=0.01, blur_limit=(3, 7)), MedianBlur(p=0.01, blur_limit=(3, 7)), ToGray(p=0.01, num_output_channels=3, method='weighted_average'), CLAHE(p=0.01, clip_limit=(1.0, 4.0), tile_grid_size=(8, 8))\n",
      "\n",
      "      Epoch    GPU_mem   box_loss   cls_loss   dfl_loss  Instances       Size\n"
     ]
    },
    {
     "name": "stderr",
     "output_type": "stream",
     "text": [
      "      11/20      13.5G      1.446      1.324      1.406         39        640: 100%|██████████| 367/367 [02:38<00:00,  2.32it/s]\n",
      "                 Class     Images  Instances      Box(P          R      mAP50  mAP50-95): 100%|██████████| 184/184 [01:42<00:00,  1.80it/s]\n"
     ]
    },
    {
     "name": "stdout",
     "output_type": "stream",
     "text": [
      "                   all      11738     124443       0.57      0.391      0.405      0.236\n",
      "\n",
      "      Epoch    GPU_mem   box_loss   cls_loss   dfl_loss  Instances       Size\n"
     ]
    },
    {
     "name": "stderr",
     "output_type": "stream",
     "text": [
      "      12/20      13.3G      1.416      1.253      1.374         34        640: 100%|██████████| 367/367 [02:34<00:00,  2.38it/s]\n",
      "                 Class     Images  Instances      Box(P          R      mAP50  mAP50-95): 100%|██████████| 184/184 [01:44<00:00,  1.77it/s]\n"
     ]
    },
    {
     "name": "stdout",
     "output_type": "stream",
     "text": [
      "                   all      11738     124443      0.581      0.399      0.417      0.246\n",
      "\n",
      "      Epoch    GPU_mem   box_loss   cls_loss   dfl_loss  Instances       Size\n"
     ]
    },
    {
     "name": "stderr",
     "output_type": "stream",
     "text": [
      "      13/20      13.4G      1.383      1.203      1.351         54        640: 100%|██████████| 367/367 [02:35<00:00,  2.36it/s]\n",
      "                 Class     Images  Instances      Box(P          R      mAP50  mAP50-95): 100%|██████████| 184/184 [01:42<00:00,  1.79it/s]\n"
     ]
    },
    {
     "name": "stdout",
     "output_type": "stream",
     "text": [
      "                   all      11738     124443       0.62      0.407      0.438      0.259\n",
      "\n",
      "      Epoch    GPU_mem   box_loss   cls_loss   dfl_loss  Instances       Size\n"
     ]
    },
    {
     "name": "stderr",
     "output_type": "stream",
     "text": [
      "      14/20      13.4G      1.366      1.164      1.333         48        640: 100%|██████████| 367/367 [02:34<00:00,  2.38it/s]\n",
      "                 Class     Images  Instances      Box(P          R      mAP50  mAP50-95): 100%|██████████| 184/184 [01:42<00:00,  1.80it/s]\n"
     ]
    },
    {
     "name": "stdout",
     "output_type": "stream",
     "text": [
      "                   all      11738     124443      0.653      0.417      0.457      0.272\n",
      "\n",
      "      Epoch    GPU_mem   box_loss   cls_loss   dfl_loss  Instances       Size\n"
     ]
    },
    {
     "name": "stderr",
     "output_type": "stream",
     "text": [
      "      15/20      11.4G      1.347      1.132       1.32         75        640: 100%|██████████| 367/367 [02:34<00:00,  2.38it/s]\n",
      "                 Class     Images  Instances      Box(P          R      mAP50  mAP50-95): 100%|██████████| 184/184 [01:42<00:00,  1.79it/s]\n"
     ]
    },
    {
     "name": "stdout",
     "output_type": "stream",
     "text": [
      "                   all      11738     124443      0.661      0.421      0.466      0.279\n",
      "\n",
      "      Epoch    GPU_mem   box_loss   cls_loss   dfl_loss  Instances       Size\n"
     ]
    },
    {
     "name": "stderr",
     "output_type": "stream",
     "text": [
      "      16/20      12.9G      1.329      1.103      1.305         79        640: 100%|██████████| 367/367 [02:27<00:00,  2.49it/s]\n",
      "                 Class     Images  Instances      Box(P          R      mAP50  mAP50-95): 100%|██████████| 184/184 [01:37<00:00,  1.90it/s]\n"
     ]
    },
    {
     "name": "stdout",
     "output_type": "stream",
     "text": [
      "                   all      11738     124443       0.66      0.441      0.481      0.291\n",
      "\n",
      "      Epoch    GPU_mem   box_loss   cls_loss   dfl_loss  Instances       Size\n"
     ]
    },
    {
     "name": "stderr",
     "output_type": "stream",
     "text": [
      "      17/20      14.1G      1.306      1.068       1.29         84        640: 100%|██████████| 367/367 [02:28<00:00,  2.47it/s]\n",
      "                 Class     Images  Instances      Box(P          R      mAP50  mAP50-95): 100%|██████████| 184/184 [01:38<00:00,  1.86it/s]\n"
     ]
    },
    {
     "name": "stdout",
     "output_type": "stream",
     "text": [
      "                   all      11738     124443      0.669      0.447       0.49      0.298\n",
      "\n",
      "      Epoch    GPU_mem   box_loss   cls_loss   dfl_loss  Instances       Size\n"
     ]
    },
    {
     "name": "stderr",
     "output_type": "stream",
     "text": [
      "      18/20      14.4G      1.288       1.05      1.277        122        640: 100%|██████████| 367/367 [02:27<00:00,  2.49it/s]\n",
      "                 Class     Images  Instances      Box(P          R      mAP50  mAP50-95): 100%|██████████| 184/184 [01:38<00:00,  1.86it/s]\n"
     ]
    },
    {
     "name": "stdout",
     "output_type": "stream",
     "text": [
      "                   all      11738     124443      0.682      0.455      0.501      0.304\n",
      "\n",
      "      Epoch    GPU_mem   box_loss   cls_loss   dfl_loss  Instances       Size\n"
     ]
    },
    {
     "name": "stderr",
     "output_type": "stream",
     "text": [
      "      19/20      12.5G      1.279      1.034       1.27        113        640: 100%|██████████| 367/367 [02:27<00:00,  2.48it/s]\n",
      "                 Class     Images  Instances      Box(P          R      mAP50  mAP50-95): 100%|██████████| 184/184 [01:37<00:00,  1.88it/s]\n"
     ]
    },
    {
     "name": "stdout",
     "output_type": "stream",
     "text": [
      "                   all      11738     124443      0.686      0.462      0.506      0.309\n",
      "\n",
      "      Epoch    GPU_mem   box_loss   cls_loss   dfl_loss  Instances       Size\n"
     ]
    },
    {
     "name": "stderr",
     "output_type": "stream",
     "text": [
      "      20/20      12.8G      1.259      1.014      1.261         46        640: 100%|██████████| 367/367 [02:26<00:00,  2.50it/s]\n",
      "                 Class     Images  Instances      Box(P          R      mAP50  mAP50-95): 100%|██████████| 184/184 [01:36<00:00,  1.90it/s]\n"
     ]
    },
    {
     "name": "stdout",
     "output_type": "stream",
     "text": [
      "                   all      11738     124443      0.696      0.463       0.51      0.313\n",
      "\n",
      "20 epochs completed in 1.427 hours.\n",
      "Optimizer stripped from runs/detect/yolov11_dior2/weights/last.pt, 5.4MB\n",
      "Optimizer stripped from runs/detect/yolov11_dior2/weights/best.pt, 5.4MB\n",
      "\n",
      "Validating runs/detect/yolov11_dior2/weights/best.pt...\n",
      "Ultralytics 8.3.111 🚀 Python-3.11.11 torch-2.5.1+cu124 CUDA:0 (Tesla P100-PCIE-16GB, 16269MiB)\n",
      "YOLO summary (fused): 95 layers, 2,552,964 parameters, 0 gradients, 6.3 GFLOPs\n"
     ]
    },
    {
     "name": "stderr",
     "output_type": "stream",
     "text": [
      "                 Class     Images  Instances      Box(P          R      mAP50  mAP50-95): 100%|██████████| 184/184 [01:42<00:00,  1.80it/s]\n"
     ]
    },
    {
     "name": "stdout",
     "output_type": "stream",
     "text": [
      "                   all      11738     124443      0.695      0.463       0.51      0.313\n",
      "              airplane        705       8212      0.809       0.37      0.487      0.292\n",
      "               airport        657        666      0.476      0.524      0.479       0.22\n",
      "         baseballfield       1312       3433      0.924      0.614      0.687      0.559\n",
      "       basketballcourt        704       2149      0.718      0.611      0.668      0.475\n",
      "                bridge       1302       2604      0.682      0.168      0.201      0.102\n",
      "               chimney        448       1032       0.81      0.591      0.659      0.471\n",
      "                   dam        502        537      0.463      0.424      0.414      0.169\n",
      "Expressway-Service-area        565       1085      0.723      0.547      0.569      0.362\n",
      "Expressway-toll-station        634        688      0.693      0.377      0.401      0.292\n",
      "             golffield        491        575      0.569      0.542      0.527       0.25\n",
      "      groundtrackfield       1322       1880      0.734      0.481      0.571      0.392\n",
      "                harbor        814       3140      0.555        0.5       0.49      0.274\n",
      "              overpass       1099       1778      0.656      0.427      0.447      0.257\n",
      "                  ship       1400      35108      0.754      0.754      0.786       0.42\n",
      "               stadium        619        673      0.702      0.511      0.604      0.428\n",
      "           storagetank        893      23361      0.919      0.242      0.406      0.256\n",
      "           tenniscourt       1347       7360      0.882      0.715      0.781      0.615\n",
      "          trainstation        501        509      0.459      0.138      0.198     0.0641\n",
      "               vehicle       3306      26655      0.732      0.229      0.289       0.16\n",
      "              windmill        809       2998      0.652      0.502      0.539      0.202\n"
     ]
    },
    {
     "name": "stderr",
     "output_type": "stream",
     "text": [
      "/usr/local/lib/python3.11/dist-packages/matplotlib/colors.py:721: RuntimeWarning: invalid value encountered in less\n",
      "  xa[xa < 0] = -1\n",
      "/usr/local/lib/python3.11/dist-packages/matplotlib/colors.py:721: RuntimeWarning: invalid value encountered in less\n",
      "  xa[xa < 0] = -1\n"
     ]
    },
    {
     "name": "stdout",
     "output_type": "stream",
     "text": [
      "Speed: 0.2ms preprocess, 2.0ms inference, 0.0ms loss, 1.2ms postprocess per image\n",
      "Results saved to \u001b[1mruns/detect/yolov11_dior2\u001b[0m\n"
     ]
    }
   ],
   "source": [
    "results = model.train(\n",
    "    data='/kaggle/input/diordataset/Diorkaggle.yaml',\n",
    "    epochs=20,\n",
    "    imgsz=640,\n",
    "    batch=32,\n",
    "    lr0=3e-4,\n",
    "    name=\"yolov11_dior\",\n",
    "    save_period=4,\n",
    "    val=True,\n",
    "\n",
    "    # Отключаем заморозку всех слоёв:\n",
    "    freeze=0,\n",
    "\n",
    "    # Параметры аугментации:\n",
    "    hsv_h=0.015,   \n",
    "    hsv_s=0.7,    \n",
    "    hsv_v=0.4,    \n",
    "    flipud=0.0,   \n",
    "    fliplr=0.5,   \n",
    "    mosaic=1.0,   \n",
    "    degrees=0.0,  \n",
    "    translate=0.1 \n",
    ")\n"
   ]
  },
  {
   "cell_type": "code",
   "execution_count": 9,
   "metadata": {
    "execution": {
     "iopub.execute_input": "2025-04-19T23:07:52.383442Z",
     "iopub.status.busy": "2025-04-19T23:07:52.383178Z",
     "iopub.status.idle": "2025-04-19T23:07:52.387677Z",
     "shell.execute_reply": "2025-04-19T23:07:52.386915Z",
     "shell.execute_reply.started": "2025-04-19T23:07:52.383418Z"
    },
    "trusted": true
   },
   "outputs": [],
   "source": [
    "import os"
   ]
  },
  {
   "cell_type": "code",
   "execution_count": 10,
   "metadata": {
    "execution": {
     "iopub.execute_input": "2025-04-19T23:07:52.388800Z",
     "iopub.status.busy": "2025-04-19T23:07:52.388511Z",
     "iopub.status.idle": "2025-04-19T23:07:52.580475Z",
     "shell.execute_reply": "2025-04-19T23:07:52.579661Z",
     "shell.execute_reply.started": "2025-04-19T23:07:52.388757Z"
    },
    "trusted": true
   },
   "outputs": [
    {
     "name": "stdout",
     "output_type": "stream",
     "text": [
      "\n",
      "0: 640x640 9 vehicles, 2.7ms\n",
      "1: 640x640 1 basketballcourt, 2.7ms\n",
      "2: 640x640 1 ship, 2.7ms\n",
      "3: 640x640 8 basketballcourts, 5 tenniscourts, 2.7ms\n",
      "4: 640x640 4 baseballfields, 2.7ms\n",
      "Speed: 3.3ms preprocess, 2.7ms inference, 0.9ms postprocess per image at shape (1, 3, 640, 640)\n",
      "Results saved to \u001b[1mruns/detect/yolov11_dior23\u001b[0m\n"
     ]
    }
   ],
   "source": [
    "image_dir = \"/kaggle/input/diordataset/Dior/Dior/images/val\"\n",
    "image_files = [os.path.join(image_dir, f) for f in os.listdir(image_dir)[:5]]\n",
    "\n",
    "# Предсказание с сохранением результатов\n",
    "results = model.predict(\n",
    "    source=image_files,  # Список изображений [[4]]\n",
    "    save=True,           # Сохранить изображения с боксами [[3]]\n",
    "    save_dir=\"output\",   # Папка для сохранения [[5]]\n",
    "    conf=0.4            # Порог уверенности\n",
    ")"
   ]
  },
  {
   "cell_type": "code",
   "execution_count": 11,
   "metadata": {
    "execution": {
     "iopub.execute_input": "2025-04-19T23:07:52.581627Z",
     "iopub.status.busy": "2025-04-19T23:07:52.581339Z",
     "iopub.status.idle": "2025-04-19T23:07:58.858387Z",
     "shell.execute_reply": "2025-04-19T23:07:58.857531Z",
     "shell.execute_reply.started": "2025-04-19T23:07:52.581603Z"
    },
    "trusted": true
   },
   "outputs": [
    {
     "name": "stdout",
     "output_type": "stream",
     "text": [
      "updating: .virtual_documents/ (stored 0%)\n",
      "updating: yolo.yaml (deflated 70%)\n",
      "updating: runs/ (stored 0%)\n",
      "updating: runs/detect/ (stored 0%)\n",
      "updating: runs/detect/yolov11_dior/ (stored 0%)\n",
      "updating: runs/detect/yolov11_dior/train_batch0.jpg (deflated 2%)\n",
      "updating: runs/detect/yolov11_dior/args.yaml (deflated 52%)\n",
      "updating: runs/detect/yolov11_dior/train_batch2.jpg (deflated 2%)\n",
      "updating: runs/detect/yolov11_dior/labels.jpg (deflated 20%)\n",
      "updating: runs/detect/yolov11_dior/labels_correlogram.jpg (deflated 25%)\n",
      "updating: runs/detect/yolov11_dior/weights/ (stored 0%)\n",
      "updating: runs/detect/yolov11_dior/train_batch1.jpg (deflated 2%)\n",
      "updating: runs/detect/yolov11_dior22/ (stored 0%)\n",
      "updating: runs/detect/yolov11_dior22/20513.jpg (deflated 0%)\n",
      "updating: runs/detect/yolov11_dior22/19812.jpg (deflated 0%)\n",
      "updating: runs/detect/yolov11_dior22/22735.jpg (deflated 0%)\n",
      "updating: runs/detect/yolov11_dior22/16916.jpg (deflated 0%)\n",
      "updating: runs/detect/yolov11_dior22/22706.jpg (deflated 2%)\n",
      "updating: runs/detect/yolov11_dior2/ (stored 0%)\n",
      "updating: runs/detect/yolov11_dior2/P_curve.png (deflated 4%)\n",
      "updating: runs/detect/yolov11_dior2/val_batch1_labels.jpg (deflated 5%)\n",
      "updating: runs/detect/yolov11_dior2/val_batch0_labels.jpg (deflated 6%)\n",
      "updating: runs/detect/yolov11_dior2/F1_curve.png (deflated 3%)\n",
      "updating: runs/detect/yolov11_dior2/results.csv (deflated 59%)\n",
      "updating: runs/detect/yolov11_dior2/confusion_matrix_normalized.png (deflated 13%)\n",
      "updating: runs/detect/yolov11_dior2/results.png (deflated 8%)\n",
      "updating: runs/detect/yolov11_dior2/train_batch0.jpg (deflated 2%)\n",
      "updating: runs/detect/yolov11_dior2/args.yaml (deflated 52%)\n",
      "updating: runs/detect/yolov11_dior2/train_batch2.jpg (deflated 2%)\n",
      "updating: runs/detect/yolov11_dior2/train_batch3672.jpg (deflated 7%)\n",
      "updating: runs/detect/yolov11_dior2/labels.jpg (deflated 20%)\n",
      "updating: runs/detect/yolov11_dior2/val_batch0_pred.jpg (deflated 6%)\n",
      "updating: runs/detect/yolov11_dior2/labels_correlogram.jpg (deflated 25%)\n",
      "updating: runs/detect/yolov11_dior2/confusion_matrix.png (deflated 13%)\n",
      "updating: runs/detect/yolov11_dior2/train_batch3671.jpg (deflated 7%)\n",
      "updating: runs/detect/yolov11_dior2/val_batch2_labels.jpg (deflated 5%)\n",
      "updating: runs/detect/yolov11_dior2/PR_curve.png (deflated 4%)\n",
      "updating: runs/detect/yolov11_dior2/weights/ (stored 0%)\n",
      "updating: runs/detect/yolov11_dior2/weights/best.pt (deflated 11%)\n",
      "updating: runs/detect/yolov11_dior2/weights/epoch12.pt (deflated 21%)\n",
      "updating: runs/detect/yolov11_dior2/weights/epoch16.pt (deflated 21%)\n",
      "updating: runs/detect/yolov11_dior2/weights/epoch0.pt (deflated 27%)\n",
      "updating: runs/detect/yolov11_dior2/weights/last.pt (deflated 11%)\n",
      "updating: runs/detect/yolov11_dior2/weights/epoch8.pt (deflated 22%)\n",
      "updating: runs/detect/yolov11_dior2/weights/epoch4.pt (deflated 23%)\n",
      "updating: runs/detect/yolov11_dior2/val_batch2_pred.jpg (deflated 5%)\n",
      "updating: runs/detect/yolov11_dior2/train_batch1.jpg (deflated 1%)\n",
      "updating: runs/detect/yolov11_dior2/val_batch1_pred.jpg (deflated 5%)\n",
      "updating: runs/detect/yolov11_dior2/train_batch3670.jpg (deflated 6%)\n",
      "updating: runs/detect/yolov11_dior2/R_curve.png (deflated 4%)\n",
      "updating: yolo11n.pt (deflated 11%)\n",
      "  adding: runs/detect/yolov11_dior23/ (stored 0%)\n",
      "  adding: runs/detect/yolov11_dior23/20513.jpg (deflated 0%)\n",
      "  adding: runs/detect/yolov11_dior23/19812.jpg (deflated 0%)\n",
      "  adding: runs/detect/yolov11_dior23/22735.jpg (deflated 0%)\n",
      "  adding: runs/detect/yolov11_dior23/16916.jpg (deflated 0%)\n",
      "  adding: runs/detect/yolov11_dior23/22706.jpg (deflated 2%)\n"
     ]
    }
   ],
   "source": [
    "!zip -r output.zip ."
   ]
  }
 ],
 "metadata": {
  "kaggle": {
   "accelerator": "gpu",
   "dataSources": [
    {
     "datasetId": 5429076,
     "sourceId": 9025826,
     "sourceType": "datasetVersion"
    }
   ],
   "dockerImageVersionId": 31011,
   "isGpuEnabled": true,
   "isInternetEnabled": true,
   "language": "python",
   "sourceType": "notebook"
  },
  "kernelspec": {
   "display_name": "Python 3",
   "language": "python",
   "name": "python3"
  },
  "language_info": {
   "codemirror_mode": {
    "name": "ipython",
    "version": 3
   },
   "file_extension": ".py",
   "mimetype": "text/x-python",
   "name": "python",
   "nbconvert_exporter": "python",
   "pygments_lexer": "ipython3",
   "version": "3.11.11"
  }
 },
 "nbformat": 4,
 "nbformat_minor": 4
}
